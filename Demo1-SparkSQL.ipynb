{
 "cells": [
  {
   "cell_type": "code",
   "execution_count": 2,
   "metadata": {},
   "outputs": [],
   "source": [
    "# We can perform SQL query on Spark dataFrame but before that we need to created temporary table or register temporary\n",
    "# table using data present in \n",
    "# Spark DataFrame. There are two types of table we can create. \n",
    "# 1. using method dataframe.createOrReplaceTempView(\"records\") -> it will create table named as \"records\" .scope of\n",
    "# this table will be same spark session i.e table is per spark session basis. As soon as session exit, table will\n",
    "# disappear. Once table have been created we can perform different spark SQL Queries on it like\n",
    "# sqlContext.sql('SELECT * FROM RECORDS') -> IT WILL also return data Frame."
   ]
  },
  {
   "cell_type": "code",
   "execution_count": 3,
   "metadata": {},
   "outputs": [],
   "source": [
    "#2. using method dataFrame.createGlobalTempView(\"global_records\") -> This table will be accessible through all spark\n",
    "# sessions. In order to access global Table we while querying we need to to call table with 'global_temp' i.e\n",
    "# sqlContext('select * from global_temp.global_records') -> it will also return another dataframe."
   ]
  },
  {
   "cell_type": "code",
   "execution_count": 14,
   "metadata": {},
   "outputs": [],
   "source": [
    "from pyspark.sql import SparkSession\n",
    "from pyspark.sql.types import Row\n",
    "from datetime import datetime"
   ]
  },
  {
   "cell_type": "code",
   "execution_count": 15,
   "metadata": {},
   "outputs": [],
   "source": [
    "spark = SparkSession.builder\\\n",
    "                    .appName(\"Spark SQL\")\\\n",
    "                    .getOrCreate()"
   ]
  },
  {
   "cell_type": "code",
   "execution_count": 16,
   "metadata": {},
   "outputs": [],
   "source": [
    "com_data5 = sc.parallelize([Row(col_list=[1,2,3,4],\n",
    "                               col_row=Row(a=1,b=2, c=3),\n",
    "                               col_dict={\"DS\":4000000},\n",
    "                               col_string = \"Durga\",\n",
    "                               col_int = 10000,\n",
    "                               col_float=15.0,\n",
    "                               col_datetime=datetime(2014,8,1,14,15)),\n",
    "                           Row(col_list=[5,6,7,8,9],\n",
    "                               col_row=Row(a=2,b=3,c=4),\n",
    "                               col_dict={\"DS\":900044},\n",
    "                               col_strig = \"Kesav\",\n",
    "                               col_int = 15000,\n",
    "                               col_float=20.0,\n",
    "                               col_datetime=datetime(2014,8,1,14,15)\n",
    "                           ),\n",
    "                           Row(col_list=[2,4,5,66,66,3],\n",
    "                               col_row=Row(a=1,b=2, c=3),\n",
    "                               col_dict={\"kesav\":90},\n",
    "                               col_string = \"Dude\",\n",
    "                               col_int = 12000,\n",
    "                               col_float=55.0,\n",
    "                               col_datetime=datetime(2014,8,1,14,15)\n",
    "                           )\n",
    "                           ])"
   ]
  },
  {
   "cell_type": "code",
   "execution_count": 22,
   "metadata": {},
   "outputs": [],
   "source": [
    "com_data_df = com_data5.toDF()"
   ]
  },
  {
   "cell_type": "code",
   "execution_count": 18,
   "metadata": {},
   "outputs": [
    {
     "name": "stdout",
     "output_type": "stream",
     "text": [
      "+-------------------+---------------+---------+-------+--------------------+---------+----------+\n",
      "|       col_datetime|       col_dict|col_float|col_int|            col_list|  col_row|col_string|\n",
      "+-------------------+---------------+---------+-------+--------------------+---------+----------+\n",
      "|2014-08-01 14:15:00|[DS -> 4000000]|     15.0|  10000|        [1, 2, 3, 4]|[1, 2, 3]|     Durga|\n",
      "|2014-08-01 14:15:00| [DS -> 900044]|     20.0|  15000|     [5, 6, 7, 8, 9]|[2, 3, 4]|     Kesav|\n",
      "|2014-08-01 14:15:00|  [kesav -> 90]|     55.0|  12000|[2, 4, 5, 66, 66, 3]|[1, 2, 3]|      Dude|\n",
      "+-------------------+---------------+---------+-------+--------------------+---------+----------+\n",
      "\n"
     ]
    }
   ],
   "source": [
    "com_data_df.show(5)"
   ]
  },
  {
   "cell_type": "code",
   "execution_count": 19,
   "metadata": {},
   "outputs": [],
   "source": [
    "com_data_df.createOrReplaceTempView('records') # Created Local Table"
   ]
  },
  {
   "cell_type": "code",
   "execution_count": 20,
   "metadata": {},
   "outputs": [
    {
     "name": "stdout",
     "output_type": "stream",
     "text": [
      "+-------------------+---------------+---------+-------+--------------------+---------+----------+\n",
      "|       col_datetime|       col_dict|col_float|col_int|            col_list|  col_row|col_string|\n",
      "+-------------------+---------------+---------+-------+--------------------+---------+----------+\n",
      "|2014-08-01 14:15:00|[DS -> 4000000]|     15.0|  10000|        [1, 2, 3, 4]|[1, 2, 3]|     Durga|\n",
      "|2014-08-01 14:15:00| [DS -> 900044]|     20.0|  15000|     [5, 6, 7, 8, 9]|[2, 3, 4]|     Kesav|\n",
      "|2014-08-01 14:15:00|  [kesav -> 90]|     55.0|  12000|[2, 4, 5, 66, 66, 3]|[1, 2, 3]|      Dude|\n",
      "+-------------------+---------------+---------+-------+--------------------+---------+----------+\n",
      "\n"
     ]
    }
   ],
   "source": [
    "sqlContext.sql('select * from records').show()"
   ]
  },
  {
   "cell_type": "code",
   "execution_count": 24,
   "metadata": {},
   "outputs": [],
   "source": [
    "com_data_df.createGlobalTempView('global_records_table')"
   ]
  },
  {
   "cell_type": "code",
   "execution_count": 26,
   "metadata": {},
   "outputs": [
    {
     "name": "stdout",
     "output_type": "stream",
     "text": [
      "+-------------------+---------------+---------+-------+--------------------+---------+----------+\n",
      "|       col_datetime|       col_dict|col_float|col_int|            col_list|  col_row|col_string|\n",
      "+-------------------+---------------+---------+-------+--------------------+---------+----------+\n",
      "|2014-08-01 14:15:00|[DS -> 4000000]|     15.0|  10000|        [1, 2, 3, 4]|[1, 2, 3]|     Durga|\n",
      "|2014-08-01 14:15:00| [DS -> 900044]|     20.0|  15000|     [5, 6, 7, 8, 9]|[2, 3, 4]|     Kesav|\n",
      "|2014-08-01 14:15:00|  [kesav -> 90]|     55.0|  12000|[2, 4, 5, 66, 66, 3]|[1, 2, 3]|      Dude|\n",
      "+-------------------+---------------+---------+-------+--------------------+---------+----------+\n",
      "\n"
     ]
    }
   ],
   "source": [
    "sqlContext.sql('select * from global_temp.global_records_table').show()"
   ]
  },
  {
   "cell_type": "code",
   "execution_count": null,
   "metadata": {},
   "outputs": [],
   "source": []
  }
 ],
 "metadata": {
  "kernelspec": {
   "display_name": "Python 3",
   "language": "python",
   "name": "python3"
  },
  "language_info": {
   "codemirror_mode": {
    "name": "ipython",
    "version": 3
   },
   "file_extension": ".py",
   "mimetype": "text/x-python",
   "name": "python",
   "nbconvert_exporter": "python",
   "pygments_lexer": "ipython3",
   "version": "3.7.6"
  }
 },
 "nbformat": 4,
 "nbformat_minor": 4
}
