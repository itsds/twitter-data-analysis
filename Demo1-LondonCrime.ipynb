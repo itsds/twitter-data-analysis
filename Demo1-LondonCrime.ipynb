{
 "cells": [
  {
   "cell_type": "code",
   "execution_count": 4,
   "metadata": {},
   "outputs": [],
   "source": [
    "from pyspark.sql import SparkSession # Import Spark Session"
   ]
  },
  {
   "cell_type": "code",
   "execution_count": 5,
   "metadata": {},
   "outputs": [],
   "source": [
    "spark = SparkSession.builder\\\n",
    "                    .appName(\"Analyzing London Crime Data\")\\\n",
    "                    .getOrCreate()\n",
    "# Get Spark Session"
   ]
  },
  {
   "cell_type": "code",
   "execution_count": 6,
   "metadata": {},
   "outputs": [],
   "source": [
    "data = spark.read\\\n",
    "            .format(\"csv\")\\\n",
    "            .option(\"header\",\"true\")\\\n",
    "            .load(\"../datasets/london_crime_by_lsoa.csv\")\n",
    "\n",
    "# Load .csv file from the local in DataFrame named as 'Data'"
   ]
  },
  {
   "cell_type": "code",
   "execution_count": 7,
   "metadata": {},
   "outputs": [
    {
     "data": {
      "text/plain": [
       "13490604"
      ]
     },
     "execution_count": 7,
     "metadata": {},
     "output_type": "execute_result"
    }
   ],
   "source": [
    "data.count() # Total number of record present in loaded .csv file"
   ]
  },
  {
   "cell_type": "code",
   "execution_count": 14,
   "metadata": {},
   "outputs": [
    {
     "data": {
      "text/html": [
       "\n",
       "            <div>\n",
       "                <p><b>SparkSession - hive</b></p>\n",
       "                \n",
       "        <div>\n",
       "            <p><b>SparkContext</b></p>\n",
       "\n",
       "            <p><a href=\"http://192.168.1.101:4041\">Spark UI</a></p>\n",
       "\n",
       "            <dl>\n",
       "              <dt>Version</dt>\n",
       "                <dd><code>v2.4.5</code></dd>\n",
       "              <dt>Master</dt>\n",
       "                <dd><code>local[*]</code></dd>\n",
       "              <dt>AppName</dt>\n",
       "                <dd><code>PySparkShell</code></dd>\n",
       "            </dl>\n",
       "        </div>\n",
       "        \n",
       "            </div>\n",
       "        "
      ],
      "text/plain": [
       "<pyspark.sql.session.SparkSession at 0x110637210>"
      ]
     },
     "execution_count": 14,
     "metadata": {},
     "output_type": "execute_result"
    }
   ],
   "source": [
    "spark"
   ]
  },
  {
   "cell_type": "code",
   "execution_count": 15,
   "metadata": {},
   "outputs": [
    {
     "name": "stdout",
     "output_type": "stream",
     "text": [
      "root\n",
      " |-- lsoa_code: string (nullable = true)\n",
      " |-- borough: string (nullable = true)\n",
      " |-- major_category: string (nullable = true)\n",
      " |-- minor_category: string (nullable = true)\n",
      " |-- value: string (nullable = true)\n",
      " |-- year: string (nullable = true)\n",
      " |-- month: string (nullable = true)\n",
      "\n"
     ]
    }
   ],
   "source": [
    "data.printSchema() # This method tells about schema of DataFrame"
   ]
  },
  {
   "cell_type": "code",
   "execution_count": 16,
   "metadata": {},
   "outputs": [
    {
     "name": "stdout",
     "output_type": "stream",
     "text": [
      "+---------+----------+--------------------+--------------------+-----+----+-----+\n",
      "|lsoa_code|   borough|      major_category|      minor_category|value|year|month|\n",
      "+---------+----------+--------------------+--------------------+-----+----+-----+\n",
      "|E01001116|   Croydon|            Burglary|Burglary in Other...|    0|2016|   11|\n",
      "|E01001646| Greenwich|Violence Against ...|      Other violence|    0|2016|   11|\n",
      "|E01000677|   Bromley|Violence Against ...|      Other violence|    0|2015|    5|\n",
      "|E01003774| Redbridge|            Burglary|Burglary in Other...|    0|2016|    3|\n",
      "|E01004563|Wandsworth|             Robbery|   Personal Property|    0|2008|    6|\n",
      "|E01001320|    Ealing|  Theft and Handling|         Other Theft|    0|2012|    5|\n",
      "|E01001342|    Ealing|Violence Against ...|    Offensive Weapon|    0|2010|    7|\n",
      "|E01002633|  Hounslow|             Robbery|   Personal Property|    0|2013|    4|\n",
      "|E01003496|    Newham|     Criminal Damage|Criminal Damage T...|    0|2013|    9|\n",
      "|E01004177|    Sutton|  Theft and Handling|Theft/Taking of P...|    1|2016|    8|\n",
      "+---------+----------+--------------------+--------------------+-----+----+-----+\n",
      "\n"
     ]
    }
   ],
   "source": [
    "data.limit(10).show() # It will show the 'n' number of records given in limit(n) method"
   ]
  },
  {
   "cell_type": "code",
   "execution_count": 17,
   "metadata": {},
   "outputs": [
    {
     "data": {
      "text/plain": [
       "DataFrame[lsoa_code: string, borough: string, major_category: string, minor_category: string, value: string, year: string, month: string]"
      ]
     },
     "execution_count": 17,
     "metadata": {},
     "output_type": "execute_result"
    }
   ],
   "source": [
    "data.dropna()"
   ]
  },
  {
   "cell_type": "code",
   "execution_count": 8,
   "metadata": {},
   "outputs": [],
   "source": [
    "data=data.drop('lsoa_code') #it helps to drop the coulmn from dataFrame, we can drop data if it is not useful"
   ]
  },
  {
   "cell_type": "code",
   "execution_count": 9,
   "metadata": {},
   "outputs": [
    {
     "name": "stdout",
     "output_type": "stream",
     "text": [
      "+----------+--------------------+--------------------+-----+----+-----+\n",
      "|   borough|      major_category|      minor_category|value|year|month|\n",
      "+----------+--------------------+--------------------+-----+----+-----+\n",
      "|   Croydon|            Burglary|Burglary in Other...|    0|2016|   11|\n",
      "| Greenwich|Violence Against ...|      Other violence|    0|2016|   11|\n",
      "|   Bromley|Violence Against ...|      Other violence|    0|2015|    5|\n",
      "| Redbridge|            Burglary|Burglary in Other...|    0|2016|    3|\n",
      "|Wandsworth|             Robbery|   Personal Property|    0|2008|    6|\n",
      "|    Ealing|  Theft and Handling|         Other Theft|    0|2012|    5|\n",
      "|    Ealing|Violence Against ...|    Offensive Weapon|    0|2010|    7|\n",
      "|  Hounslow|             Robbery|   Personal Property|    0|2013|    4|\n",
      "|    Newham|     Criminal Damage|Criminal Damage T...|    0|2013|    9|\n",
      "|    Sutton|  Theft and Handling|Theft/Taking of P...|    1|2016|    8|\n",
      "+----------+--------------------+--------------------+-----+----+-----+\n",
      "\n"
     ]
    }
   ],
   "source": [
    "data.limit(10).show()"
   ]
  },
  {
   "cell_type": "code",
   "execution_count": 26,
   "metadata": {},
   "outputs": [
    {
     "name": "stdout",
     "output_type": "stream",
     "text": [
      "+--------------------+\n",
      "|             borough|\n",
      "+--------------------+\n",
      "|             Croydon|\n",
      "|          Wandsworth|\n",
      "|              Bexley|\n",
      "|             Lambeth|\n",
      "|Barking and Dagenham|\n",
      "|              Camden|\n",
      "|           Greenwich|\n",
      "|              Newham|\n",
      "|       Tower Hamlets|\n",
      "|            Hounslow|\n",
      "|              Barnet|\n",
      "|              Harrow|\n",
      "|Kensington and Ch...|\n",
      "|           Islington|\n",
      "|               Brent|\n",
      "|            Haringey|\n",
      "|             Bromley|\n",
      "|              Merton|\n",
      "|         Westminster|\n",
      "|             Hackney|\n",
      "+--------------------+\n",
      "only showing top 20 rows\n",
      "\n"
     ]
    }
   ],
   "source": [
    "total_boroughs = data.select('borough').distinct() #it returns distinct value of column borough\n",
    "total_boroughs.show()"
   ]
  },
  {
   "cell_type": "code",
   "execution_count": 31,
   "metadata": {},
   "outputs": [
    {
     "name": "stdout",
     "output_type": "stream",
     "text": [
      "+-------+--------------------+--------------------+-----+----+-----+\n",
      "|borough|      major_category|      minor_category|value|year|month|\n",
      "+-------+--------------------+--------------------+-----+----+-----+\n",
      "|Hackney|     Criminal Damage|Criminal Damage T...|    0|2011|    6|\n",
      "|Hackney|Violence Against ...|          Harassment|    1|2013|    2|\n",
      "|Hackney|     Criminal Damage|Other Criminal Da...|    0|2011|    7|\n",
      "|Hackney|Violence Against ...|        Wounding/GBH|    0|2013|   12|\n",
      "|Hackney|  Theft and Handling|  Other Theft Person|    0|2016|    8|\n",
      "|Hackney|            Burglary|Burglary in a Dwe...|    2|2008|    5|\n",
      "|Hackney|             Robbery|   Business Property|    0|2016|    7|\n",
      "|Hackney|  Theft and Handling|Theft/Taking of P...|    0|2009|   12|\n",
      "|Hackney|               Drugs|    Drug Trafficking|    0|2014|    4|\n",
      "|Hackney|  Theft and Handling|Handling Stolen G...|    0|2014|    6|\n",
      "|Hackney|            Burglary|Burglary in Other...|    0|2008|   12|\n",
      "|Hackney|Violence Against ...| Assault with Injury|    0|2010|    1|\n",
      "|Hackney|  Theft and Handling|  Other Theft Person|    0|2008|    8|\n",
      "|Hackney|Violence Against ...| Assault with Injury|    2|2015|    5|\n",
      "|Hackney|  Theft and Handling|Theft/Taking Of M...|    0|2009|   12|\n",
      "|Hackney|Violence Against ...|    Offensive Weapon|    0|2015|    9|\n",
      "|Hackney|Violence Against ...|          Harassment|    2|2008|   10|\n",
      "|Hackney|Violence Against ...|          Harassment|    0|2015|    3|\n",
      "|Hackney|  Theft and Handling|  Other Theft Person|    1|2009|    5|\n",
      "|Hackney|Other Notifiable ...|    Other Notifiable|    0|2008|    9|\n",
      "+-------+--------------------+--------------------+-----+----+-----+\n",
      "only showing top 20 rows\n",
      "\n"
     ]
    }
   ],
   "source": [
    "hackney_borough = data.filter(data.borough=='Hackney')\n",
    "hackney_borough.show()"
   ]
  },
  {
   "cell_type": "code",
   "execution_count": 29,
   "metadata": {},
   "outputs": [
    {
     "data": {
      "text/plain": [
       "417744"
      ]
     },
     "execution_count": 29,
     "metadata": {},
     "output_type": "execute_result"
    }
   ],
   "source": [
    "hackney_borough.count()"
   ]
  },
  {
   "cell_type": "code",
   "execution_count": 35,
   "metadata": {},
   "outputs": [
    {
     "name": "stdout",
     "output_type": "stream",
     "text": [
      "+-------+--------------------+--------------------+-----+----+-----+\n",
      "|borough|      major_category|      minor_category|value|year|month|\n",
      "+-------+--------------------+--------------------+-----+----+-----+\n",
      "|Hackney|     Criminal Damage|Criminal Damage T...|    0|2011|    6|\n",
      "|Hackney|Violence Against ...|          Harassment|    1|2013|    2|\n",
      "|Hackney|     Criminal Damage|Other Criminal Da...|    0|2011|    7|\n",
      "|Hackney|Violence Against ...|        Wounding/GBH|    0|2013|   12|\n",
      "|Hackney|  Theft and Handling|  Other Theft Person|    0|2016|    8|\n",
      "+-------+--------------------+--------------------+-----+----+-----+\n",
      "\n"
     ]
    }
   ],
   "source": [
    "hackney_borough_another_way = data.filter(data['borough']=='Hackney')\n",
    "hackney_borough_another_way.limit(5).show()"
   ]
  },
  {
   "cell_type": "code",
   "execution_count": 32,
   "metadata": {},
   "outputs": [
    {
     "data": {
      "text/plain": [
       "417744"
      ]
     },
     "execution_count": 32,
     "metadata": {},
     "output_type": "execute_result"
    }
   ],
   "source": [
    "hackney_borough_another_way.count()"
   ]
  },
  {
   "cell_type": "code",
   "execution_count": 38,
   "metadata": {},
   "outputs": [
    {
     "name": "stdout",
     "output_type": "stream",
     "text": [
      "+--------------------+--------------------+--------------------+-----+----+-----+\n",
      "|             borough|      major_category|      minor_category|value|year|month|\n",
      "+--------------------+--------------------+--------------------+-----+----+-----+\n",
      "|             Croydon|            Burglary|Burglary in Other...|    0|2016|   11|\n",
      "|           Greenwich|Violence Against ...|      Other violence|    0|2016|   11|\n",
      "|             Bromley|Violence Against ...|      Other violence|    0|2015|    5|\n",
      "|           Redbridge|            Burglary|Burglary in Other...|    0|2016|    3|\n",
      "|              Sutton|  Theft and Handling|Theft/Taking of P...|    1|2016|    8|\n",
      "|             Lambeth|Violence Against ...|      Other violence|    0|2015|    4|\n",
      "|          Hillingdon|  Theft and Handling|Theft/Taking Of M...|    0|2016|    2|\n",
      "|Kingston upon Thames|  Theft and Handling|    Theft From Shops|    0|2016|   11|\n",
      "|            Haringey|Violence Against ...|        Wounding/GBH|    0|2015|   12|\n",
      "|            Lewisham|Violence Against ...|      Common Assault|    0|2016|    2|\n",
      "|            Hounslow|     Criminal Damage|Criminal Damage T...|    0|2015|    2|\n",
      "|             Bromley|     Criminal Damage|Criminal Damage T...|    1|2016|    4|\n",
      "|            Haringey|     Criminal Damage|Criminal Damage T...|    0|2016|   12|\n",
      "|           Southwark|               Drugs| Possession Of Drugs|    0|2015|    3|\n",
      "|            Havering|    Fraud or Forgery|  Counted per Victim|    0|2015|   11|\n",
      "|      Waltham Forest|Other Notifiable ...|      Going Equipped|    0|2015|    2|\n",
      "|              Ealing|             Robbery|   Personal Property|    0|2015|    7|\n",
      "|               Brent|  Theft and Handling|Motor Vehicle Int...|    0|2015|    9|\n",
      "|            Hounslow|Violence Against ...|        Wounding/GBH|    2|2015|    8|\n",
      "|           Southwark|  Theft and Handling|    Theft From Shops|    4|2016|    8|\n",
      "+--------------------+--------------------+--------------------+-----+----+-----+\n",
      "only showing top 20 rows\n",
      "\n"
     ]
    }
   ],
   "source": [
    "year_15_16 = data.filter(data['year'].isin(['2015','2016'])) #data.filter(data.year.isin(['2015','2016']))\n",
    "year_15_16.show()"
   ]
  },
  {
   "cell_type": "code",
   "execution_count": 40,
   "metadata": {},
   "outputs": [
    {
     "name": "stdout",
     "output_type": "stream",
     "text": [
      "+--------------------+--------------------+--------------------+-----+----+-----+\n",
      "|             borough|      major_category|      minor_category|value|year|month|\n",
      "+--------------------+--------------------+--------------------+-----+----+-----+\n",
      "|              Sutton|  Theft and Handling|Theft/Taking of P...|    1|2016|    8|\n",
      "|           Southwark|               Drugs| Possession Of Drugs|    0|2015|    3|\n",
      "|           Southwark|  Theft and Handling|    Theft From Shops|    4|2016|    8|\n",
      "|             Croydon|             Robbery|   Personal Property|    0|2016|    1|\n",
      "|Kensington and Ch...|Other Notifiable ...|    Other Notifiable|    0|2015|    5|\n",
      "|             Lambeth|Violence Against ...|    Offensive Weapon|    0|2016|    4|\n",
      "|          Hillingdon|Violence Against ...|      Other violence|    0|2016|   11|\n",
      "|              Sutton|             Robbery|   Business Property|    0|2015|   10|\n",
      "|             Lambeth|               Drugs|    Drug Trafficking|    0|2015|    9|\n",
      "|              Bexley|  Theft and Handling|  Other Theft Person|    0|2016|    8|\n",
      "|          Wandsworth|     Criminal Damage|Criminal Damage T...|    0|2016|   12|\n",
      "|            Havering|Violence Against ...|          Harassment|    1|2016|    8|\n",
      "|             Enfield|     Criminal Damage|Other Criminal Da...|    0|2015|    9|\n",
      "|           Islington|            Burglary|Burglary in Other...|    1|2016|    7|\n",
      "|          Wandsworth|Violence Against ...|          Harassment|    0|2016|    4|\n",
      "|          Wandsworth|  Theft and Handling|Theft/Taking Of M...|    0|2015|    9|\n",
      "|              Merton|     Criminal Damage|Criminal Damage T...|    0|2016|    5|\n",
      "|         Westminster|Violence Against ...|      Common Assault|    1|2016|    2|\n",
      "|            Haringey|Violence Against ...|        Wounding/GBH|    2|2016|   11|\n",
      "|              Barnet|             Robbery|   Business Property|    0|2015|    8|\n",
      "+--------------------+--------------------+--------------------+-----+----+-----+\n",
      "only showing top 20 rows\n",
      "\n"
     ]
    }
   ],
   "source": [
    "year_15_16.sample(fraction=0.1).show() # fraction gives fraction part of your whole datasets"
   ]
  },
  {
   "cell_type": "code",
   "execution_count": 41,
   "metadata": {},
   "outputs": [
    {
     "name": "stdout",
     "output_type": "stream",
     "text": [
      "+--------------------+--------------------+--------------------+-----+----+-----+\n",
      "|             borough|      major_category|      minor_category|value|year|month|\n",
      "+--------------------+--------------------+--------------------+-----+----+-----+\n",
      "|Richmond upon Thames|             Robbery|   Personal Property|    0|2014|    1|\n",
      "|            Haringey|Violence Against ...|        Wounding/GBH|    0|2015|   12|\n",
      "|              Newham|     Criminal Damage|Criminal Damage T...|    0|2015|    1|\n",
      "|Kensington and Ch...|Other Notifiable ...|    Other Notifiable|    0|2015|    5|\n",
      "|      Waltham Forest|            Burglary|Burglary in Other...|    0|2015|    6|\n",
      "|         Westminster|  Theft and Handling|Theft From Motor ...|    6|2016|    8|\n",
      "|       Tower Hamlets|            Burglary|Burglary in a Dwe...|    0|2016|    3|\n",
      "|Kingston upon Thames|               Drugs|    Drug Trafficking|    0|2014|    1|\n",
      "|              Ealing|Other Notifiable ...|    Other Notifiable|    0|2016|   12|\n",
      "|Hammersmith and F...|            Burglary|Burglary in Other...|    0|2015|    3|\n",
      "|              Barnet|  Theft and Handling|Handling Stolen G...|    0|2016|    4|\n",
      "|      Waltham Forest|Violence Against ...|      Common Assault|    0|2016|    6|\n",
      "|Hammersmith and F...|     Criminal Damage|Criminal Damage T...|    0|2015|    8|\n",
      "|             Lambeth|               Drugs|    Drug Trafficking|    0|2015|    5|\n",
      "|          Hillingdon|            Burglary|Burglary in Other...|    0|2016|   12|\n",
      "|Barking and Dagenham|     Criminal Damage|Criminal Damage T...|    0|2015|    4|\n",
      "|          Hillingdon|  Theft and Handling|Motor Vehicle Int...|    0|2015|    4|\n",
      "|           Greenwich|  Theft and Handling|  Other Theft Person|    0|2016|    4|\n",
      "|             Bromley|             Robbery|   Personal Property|    0|2015|    3|\n",
      "|Barking and Dagenham|     Criminal Damage|Criminal Damage T...|    4|2015|    6|\n",
      "+--------------------+--------------------+--------------------+-----+----+-----+\n",
      "only showing top 20 rows\n",
      "\n"
     ]
    }
   ],
   "source": [
    "data_2014_onwards = data.filter(data['year']>='2014')\n",
    "data_2014_onwards.sample(fraction=0.1).show()"
   ]
  },
  {
   "cell_type": "code",
   "execution_count": 42,
   "metadata": {},
   "outputs": [
    {
     "data": {
      "text/plain": [
       "4496868"
      ]
     },
     "execution_count": 42,
     "metadata": {},
     "output_type": "execute_result"
    }
   ],
   "source": [
    "data_2014_onwards.count()"
   ]
  },
  {
   "cell_type": "code",
   "execution_count": 43,
   "metadata": {},
   "outputs": [
    {
     "name": "stdout",
     "output_type": "stream",
     "text": [
      "+--------------------+------+\n",
      "|             borough| count|\n",
      "+--------------------+------+\n",
      "|             Croydon|602100|\n",
      "|          Wandsworth|498636|\n",
      "|              Bexley|385668|\n",
      "|             Lambeth|519048|\n",
      "|Barking and Dagenham|311040|\n",
      "|              Camden|378432|\n",
      "|           Greenwich|421200|\n",
      "|              Newham|471420|\n",
      "|       Tower Hamlets|412128|\n",
      "|            Hounslow|395928|\n",
      "+--------------------+------+\n",
      "only showing top 10 rows\n",
      "\n"
     ]
    }
   ],
   "source": [
    "data_borough_count = data.groupBy('borough').count() # Total number of inspections\n",
    "data_borough_count.show(10)"
   ]
  },
  {
   "cell_type": "code",
   "execution_count": 46,
   "metadata": {},
   "outputs": [
    {
     "name": "stdout",
     "output_type": "stream",
     "text": [
      "+--------------------+----------+\n",
      "|             borough|sum(value)|\n",
      "+--------------------+----------+\n",
      "|             Croydon|  260294.0|\n",
      "|          Wandsworth|  204741.0|\n",
      "|              Bexley|  114136.0|\n",
      "|             Lambeth|  292178.0|\n",
      "|Barking and Dagenham|  149447.0|\n",
      "|              Camden|  275147.0|\n",
      "|           Greenwich|  181568.0|\n",
      "|              Newham|  262024.0|\n",
      "|       Tower Hamlets|  228613.0|\n",
      "|            Hounslow|  186772.0|\n",
      "|              Barnet|  212191.0|\n",
      "|              Harrow|  116848.0|\n",
      "|Kensington and Ch...|  171981.0|\n",
      "|           Islington|  230286.0|\n",
      "|               Brent|  227551.0|\n",
      "|            Haringey|  213272.0|\n",
      "|             Bromley|  184349.0|\n",
      "|              Merton|  115654.0|\n",
      "|         Westminster|  455028.0|\n",
      "|             Hackney|  217119.0|\n",
      "+--------------------+----------+\n",
      "only showing top 20 rows\n",
      "\n"
     ]
    }
   ],
   "source": [
    "data_borough_sum_value = data.groupBy('borough').agg({'value':'sum'})\n",
    "data_borough_sum_value.show()"
   ]
  },
  {
   "cell_type": "code",
   "execution_count": 52,
   "metadata": {},
   "outputs": [
    {
     "name": "stdout",
     "output_type": "stream",
     "text": [
      "+--------------------+-----------+\n",
      "|             borough|convictions|\n",
      "+--------------------+-----------+\n",
      "|             Croydon|   260294.0|\n",
      "|          Wandsworth|   204741.0|\n",
      "|              Bexley|   114136.0|\n",
      "|             Lambeth|   292178.0|\n",
      "|Barking and Dagenham|   149447.0|\n",
      "|              Camden|   275147.0|\n",
      "|           Greenwich|   181568.0|\n",
      "|              Newham|   262024.0|\n",
      "|       Tower Hamlets|   228613.0|\n",
      "|            Hounslow|   186772.0|\n",
      "|              Barnet|   212191.0|\n",
      "|              Harrow|   116848.0|\n",
      "|Kensington and Ch...|   171981.0|\n",
      "|           Islington|   230286.0|\n",
      "|               Brent|   227551.0|\n",
      "|            Haringey|   213272.0|\n",
      "|             Bromley|   184349.0|\n",
      "|              Merton|   115654.0|\n",
      "|         Westminster|   455028.0|\n",
      "|             Hackney|   217119.0|\n",
      "+--------------------+-----------+\n",
      "only showing top 20 rows\n",
      "\n"
     ]
    }
   ],
   "source": [
    "data_borough_sum_value_rename = data.groupBy('borough')\\\n",
    "                                    .agg({'value':'sum'})\\\n",
    "                                    .withColumnRenamed('sum(value)','convictions')\n",
    "data_borough_sum_value_rename.show()"
   ]
  },
  {
   "cell_type": "code",
   "execution_count": 53,
   "metadata": {},
   "outputs": [
    {
     "name": "stdout",
     "output_type": "stream",
     "text": [
      "+----------------+\n",
      "|sum(convictions)|\n",
      "+----------------+\n",
      "|       6447758.0|\n",
      "+----------------+\n",
      "\n"
     ]
    }
   ],
   "source": [
    "data_total_convistions = data_borough_sum_value_rename.agg({'convictions':'sum'})\n",
    "data_total_convistions.show()"
   ]
  },
  {
   "cell_type": "code",
   "execution_count": 56,
   "metadata": {},
   "outputs": [
    {
     "data": {
      "text/plain": [
       "6447758.0"
      ]
     },
     "execution_count": 56,
     "metadata": {},
     "output_type": "execute_result"
    }
   ],
   "source": [
    "data_total_convistions.collect()[0][0]"
   ]
  },
  {
   "cell_type": "code",
   "execution_count": 57,
   "metadata": {},
   "outputs": [],
   "source": [
    "import pyspark.sql.functions as func"
   ]
  },
  {
   "cell_type": "code",
   "execution_count": 60,
   "metadata": {},
   "outputs": [
    {
     "name": "stdout",
     "output_type": "stream",
     "text": [
      "root\n",
      " |-- borough: string (nullable = true)\n",
      " |-- convictions: double (nullable = true)\n",
      " |-- % convictions: double (nullable = true)\n",
      "\n"
     ]
    }
   ],
   "source": [
    "borough_percentage_contribution = data_borough_sum_value_rename\\\n",
    ".withColumn('% convictions',\\\n",
    "            func.round(data_borough_sum_value_rename.convictions/data_total_convistions.collect()[0][0]*100,2))\n",
    "borough_percentage_contribution.printSchema()"
   ]
  },
  {
   "cell_type": "code",
   "execution_count": 61,
   "metadata": {},
   "outputs": [
    {
     "name": "stdout",
     "output_type": "stream",
     "text": [
      "+--------------------+-----------+-------------+\n",
      "|             borough|convictions|% convictions|\n",
      "+--------------------+-----------+-------------+\n",
      "|             Croydon|   260294.0|         4.04|\n",
      "|          Wandsworth|   204741.0|         3.18|\n",
      "|              Bexley|   114136.0|         1.77|\n",
      "|             Lambeth|   292178.0|         4.53|\n",
      "|Barking and Dagenham|   149447.0|         2.32|\n",
      "|              Camden|   275147.0|         4.27|\n",
      "|           Greenwich|   181568.0|         2.82|\n",
      "|              Newham|   262024.0|         4.06|\n",
      "|       Tower Hamlets|   228613.0|         3.55|\n",
      "|            Hounslow|   186772.0|          2.9|\n",
      "|              Barnet|   212191.0|         3.29|\n",
      "|              Harrow|   116848.0|         1.81|\n",
      "|Kensington and Ch...|   171981.0|         2.67|\n",
      "|           Islington|   230286.0|         3.57|\n",
      "|               Brent|   227551.0|         3.53|\n",
      "|            Haringey|   213272.0|         3.31|\n",
      "|             Bromley|   184349.0|         2.86|\n",
      "|              Merton|   115654.0|         1.79|\n",
      "|         Westminster|   455028.0|         7.06|\n",
      "|             Hackney|   217119.0|         3.37|\n",
      "+--------------------+-----------+-------------+\n",
      "only showing top 20 rows\n",
      "\n"
     ]
    }
   ],
   "source": [
    "borough_percentage_contribution.show()"
   ]
  },
  {
   "cell_type": "code",
   "execution_count": 64,
   "metadata": {},
   "outputs": [
    {
     "name": "stdout",
     "output_type": "stream",
     "text": [
      "+--------------------+-----------+-------------+\n",
      "|             borough|convictions|% convictions|\n",
      "+--------------------+-----------+-------------+\n",
      "|         Westminster|   455028.0|         7.06|\n",
      "|             Lambeth|   292178.0|         4.53|\n",
      "|           Southwark|   278809.0|         4.32|\n",
      "|              Camden|   275147.0|         4.27|\n",
      "|              Newham|   262024.0|         4.06|\n",
      "|             Croydon|   260294.0|         4.04|\n",
      "|              Ealing|   251562.0|          3.9|\n",
      "|           Islington|   230286.0|         3.57|\n",
      "|       Tower Hamlets|   228613.0|         3.55|\n",
      "|               Brent|   227551.0|         3.53|\n",
      "|             Hackney|   217119.0|         3.37|\n",
      "|            Lewisham|   215137.0|         3.34|\n",
      "|            Haringey|   213272.0|         3.31|\n",
      "|              Barnet|   212191.0|         3.29|\n",
      "|          Hillingdon|   209680.0|         3.25|\n",
      "|          Wandsworth|   204741.0|         3.18|\n",
      "|      Waltham Forest|   203879.0|         3.16|\n",
      "|             Enfield|   193880.0|         3.01|\n",
      "|            Hounslow|   186772.0|          2.9|\n",
      "|Hammersmith and F...|   185259.0|         2.87|\n",
      "+--------------------+-----------+-------------+\n",
      "only showing top 20 rows\n",
      "\n"
     ]
    }
   ],
   "source": [
    "borough_percentage_contribution.orderBy(borough_percentage_contribution[2].desc()).show()"
   ]
  },
  {
   "cell_type": "code",
   "execution_count": 68,
   "metadata": {},
   "outputs": [
    {
     "name": "stdout",
     "output_type": "stream",
     "text": [
      "+-----+-----------+\n",
      "|month|convictions|\n",
      "+-----+-----------+\n",
      "|    7|    58564.0|\n",
      "|   11|    59704.0|\n",
      "|    3|    57669.0|\n",
      "|    8|    55641.0|\n",
      "|    5|    56327.0|\n",
      "|    6|    57039.0|\n",
      "|    9|    56933.0|\n",
      "|    1|    55515.0|\n",
      "|   10|    60537.0|\n",
      "|    4|    53467.0|\n",
      "|   12|    57565.0|\n",
      "|    2|    51222.0|\n",
      "+-----+-----------+\n",
      "\n"
     ]
    }
   ],
   "source": [
    "data_per_month_2014 = data.filter(data['year']==2014)\\\n",
    "                          .groupBy('month')\\\n",
    "                          .agg({'value':'sum'})\\\n",
    "                          .withColumnRenamed('sum(value)','convictions')\n",
    "data_per_month_2014.show();"
   ]
  },
  {
   "cell_type": "code",
   "execution_count": 10,
   "metadata": {},
   "outputs": [
    {
     "name": "stdout",
     "output_type": "stream",
     "text": [
      "+----------+--------------------+--------------------+-----+----+-----+\n",
      "|   borough|      major_category|      minor_category|value|year|month|\n",
      "+----------+--------------------+--------------------+-----+----+-----+\n",
      "|   Croydon|            Burglary|Burglary in Other...|    0|2016|   11|\n",
      "| Greenwich|Violence Against ...|      Other violence|    0|2016|   11|\n",
      "|   Bromley|Violence Against ...|      Other violence|    0|2015|    5|\n",
      "| Redbridge|            Burglary|Burglary in Other...|    0|2016|    3|\n",
      "|Wandsworth|             Robbery|   Personal Property|    0|2008|    6|\n",
      "|    Ealing|  Theft and Handling|         Other Theft|    0|2012|    5|\n",
      "|    Ealing|Violence Against ...|    Offensive Weapon|    0|2010|    7|\n",
      "|  Hounslow|             Robbery|   Personal Property|    0|2013|    4|\n",
      "|    Newham|     Criminal Damage|Criminal Damage T...|    0|2013|    9|\n",
      "|    Sutton|  Theft and Handling|Theft/Taking of P...|    1|2016|    8|\n",
      "+----------+--------------------+--------------------+-----+----+-----+\n",
      "\n"
     ]
    }
   ],
   "source": [
    "data.limit(10).show()"
   ]
  },
  {
   "cell_type": "code",
   "execution_count": 16,
   "metadata": {},
   "outputs": [
    {
     "name": "stdout",
     "output_type": "stream",
     "text": [
      "+--------------------+-----------+\n",
      "|      major_category|convictions|\n",
      "+--------------------+-----------+\n",
      "|               Drugs|   470765.0|\n",
      "|             Robbery|   258873.0|\n",
      "|  Theft and Handling|  2661861.0|\n",
      "|    Fraud or Forgery|     5325.0|\n",
      "|Violence Against ...|  1558081.0|\n",
      "|            Burglary|   754293.0|\n",
      "|Other Notifiable ...|   106349.0|\n",
      "|     Sexual Offences|     1273.0|\n",
      "|     Criminal Damage|   630938.0|\n",
      "+--------------------+-----------+\n",
      "\n",
      "+--------------------+-----------+\n",
      "|      major_category|convictions|\n",
      "+--------------------+-----------+\n",
      "|  Theft and Handling|  2661861.0|\n",
      "|Violence Against ...|  1558081.0|\n",
      "|            Burglary|   754293.0|\n",
      "|     Criminal Damage|   630938.0|\n",
      "|               Drugs|   470765.0|\n",
      "|             Robbery|   258873.0|\n",
      "|Other Notifiable ...|   106349.0|\n",
      "|    Fraud or Forgery|     5325.0|\n",
      "|     Sexual Offences|     1273.0|\n",
      "+--------------------+-----------+\n",
      "\n"
     ]
    }
   ],
   "source": [
    "data_major_category_convic = data.groupBy('major_category')\\\n",
    "                                 .agg({'value':'sum'})\\\n",
    "                                 .withColumnRenamed('sum(value)','convictions')\n",
    "data_major_category_convic.show()\n",
    "data_major_category_convic.orderBy(data_major_category_convic.convictions.desc()).show()"
   ]
  },
  {
   "cell_type": "code",
   "execution_count": 17,
   "metadata": {},
   "outputs": [],
   "source": [
    "data_year = data.select('year')"
   ]
  },
  {
   "cell_type": "code",
   "execution_count": 18,
   "metadata": {},
   "outputs": [
    {
     "data": {
      "text/plain": [
       "13490604"
      ]
     },
     "execution_count": 18,
     "metadata": {},
     "output_type": "execute_result"
    }
   ],
   "source": [
    "data_year.count()"
   ]
  },
  {
   "cell_type": "code",
   "execution_count": 20,
   "metadata": {},
   "outputs": [
    {
     "name": "stdout",
     "output_type": "stream",
     "text": [
      "+---------+\n",
      "|min(year)|\n",
      "+---------+\n",
      "|     2008|\n",
      "+---------+\n",
      "\n"
     ]
    }
   ],
   "source": [
    "data_year.agg({'year':'min'}).show()"
   ]
  },
  {
   "cell_type": "code",
   "execution_count": 21,
   "metadata": {},
   "outputs": [
    {
     "name": "stdout",
     "output_type": "stream",
     "text": [
      "+---------+\n",
      "|max(year)|\n",
      "+---------+\n",
      "|     2016|\n",
      "+---------+\n",
      "\n"
     ]
    }
   ],
   "source": [
    "data_year.agg({'year':'max'}).show()"
   ]
  },
  {
   "cell_type": "code",
   "execution_count": 22,
   "metadata": {},
   "outputs": [
    {
     "name": "stdout",
     "output_type": "stream",
     "text": [
      "+-------+------------------+\n",
      "|summary|              year|\n",
      "+-------+------------------+\n",
      "|  count|          13490604|\n",
      "|   mean|            2012.0|\n",
      "| stddev|2.5819889931674522|\n",
      "|    min|              2008|\n",
      "|    max|              2016|\n",
      "+-------+------------------+\n",
      "\n"
     ]
    }
   ],
   "source": [
    "data_year.describe().show()"
   ]
  },
  {
   "cell_type": "code",
   "execution_count": null,
   "metadata": {},
   "outputs": [],
   "source": []
  }
 ],
 "metadata": {
  "kernelspec": {
   "display_name": "Python 3",
   "language": "python",
   "name": "python3"
  },
  "language_info": {
   "codemirror_mode": {
    "name": "ipython",
    "version": 3
   },
   "file_extension": ".py",
   "mimetype": "text/x-python",
   "name": "python",
   "nbconvert_exporter": "python",
   "pygments_lexer": "ipython3",
   "version": "3.7.6"
  }
 },
 "nbformat": 4,
 "nbformat_minor": 4
}
