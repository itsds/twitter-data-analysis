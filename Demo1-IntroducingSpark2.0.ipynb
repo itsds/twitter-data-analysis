{
 "cells": [
  {
   "cell_type": "code",
   "execution_count": 12,
   "metadata": {},
   "outputs": [
    {
     "data": {
      "text/html": [
       "\n",
       "        <div>\n",
       "            <p><b>SparkContext</b></p>\n",
       "\n",
       "            <p><a href=\"http://192.168.1.101:4040\">Spark UI</a></p>\n",
       "\n",
       "            <dl>\n",
       "              <dt>Version</dt>\n",
       "                <dd><code>v2.4.5</code></dd>\n",
       "              <dt>Master</dt>\n",
       "                <dd><code>local[*]</code></dd>\n",
       "              <dt>AppName</dt>\n",
       "                <dd><code>PySparkShell</code></dd>\n",
       "            </dl>\n",
       "        </div>\n",
       "        "
      ],
      "text/plain": [
       "<SparkContext master=local[*] appName=PySparkShell>"
      ]
     },
     "execution_count": 12,
     "metadata": {},
     "output_type": "execute_result"
    }
   ],
   "source": [
    "sc"
   ]
  },
  {
   "cell_type": "code",
   "execution_count": 15,
   "metadata": {},
   "outputs": [],
   "source": [
    "from pyspark.sql.types import Row\n",
    "from datetime import datetime"
   ]
  },
  {
   "cell_type": "code",
   "execution_count": 3,
   "metadata": {},
   "outputs": [
    {
     "data": {
      "text/plain": [
       "ParallelCollectionRDD[0] at parallelize at PythonRDD.scala:195"
      ]
     },
     "execution_count": 3,
     "metadata": {},
     "output_type": "execute_result"
    }
   ],
   "source": [
    "simple_data = sc.parallelize([1,\"Alice\",50])\n",
    "simple_data"
   ]
  },
  {
   "cell_type": "code",
   "execution_count": 4,
   "metadata": {},
   "outputs": [
    {
     "data": {
      "text/plain": [
       "3"
      ]
     },
     "execution_count": 4,
     "metadata": {},
     "output_type": "execute_result"
    }
   ],
   "source": [
    "simple_data.count() #Action returns total number of entities"
   ]
  },
  {
   "cell_type": "code",
   "execution_count": 6,
   "metadata": {
    "scrolled": true
   },
   "outputs": [
    {
     "data": {
      "text/plain": [
       "3"
      ]
     },
     "execution_count": 6,
     "metadata": {},
     "output_type": "execute_result"
    }
   ],
   "source": [
    "simple_data.count()"
   ]
  },
  {
   "cell_type": "code",
   "execution_count": 7,
   "metadata": {},
   "outputs": [
    {
     "data": {
      "text/plain": [
       "1"
      ]
     },
     "execution_count": 7,
     "metadata": {},
     "output_type": "execute_result"
    }
   ],
   "source": [
    "simple_data.first() #Action returns first element of the RDD"
   ]
  },
  {
   "cell_type": "code",
   "execution_count": 9,
   "metadata": {},
   "outputs": [
    {
     "data": {
      "text/plain": [
       "[1, 'Alice']"
      ]
     },
     "execution_count": 9,
     "metadata": {},
     "output_type": "execute_result"
    }
   ],
   "source": [
    "simple_data.take(2) #Action returns first two element of RDD , first n elements of datasets i.e total no or rows"
   ]
  },
  {
   "cell_type": "code",
   "execution_count": 10,
   "metadata": {},
   "outputs": [
    {
     "data": {
      "text/plain": [
       "[1, 'Alice', 50]"
      ]
     },
     "execution_count": 10,
     "metadata": {},
     "output_type": "execute_result"
    }
   ],
   "source": [
    "simple_data.collect() # Action it will show all the element of RDD"
   ]
  },
  {
   "cell_type": "code",
   "execution_count": 13,
   "metadata": {},
   "outputs": [
    {
     "data": {
      "text/plain": [
       "[1, 'Alice', 50]"
      ]
     },
     "execution_count": 13,
     "metadata": {},
     "output_type": "execute_result"
    }
   ],
   "source": [
    "simple_data.take(10)"
   ]
  },
  {
   "cell_type": "code",
   "execution_count": null,
   "metadata": {},
   "outputs": [],
   "source": [
    "df = simple_data.toDF() # RDD wont be converted to Data frame here , because DF should have appropriate Schema"
   ]
  },
  {
   "cell_type": "code",
   "execution_count": 2,
   "metadata": {},
   "outputs": [],
   "source": [
    "records = sc.parallelize([[1,\"Alice\",50],[2,\"Bob\",80]]) # Parallelize method used to convert data into RDD"
   ]
  },
  {
   "cell_type": "code",
   "execution_count": 3,
   "metadata": {},
   "outputs": [
    {
     "data": {
      "text/plain": [
       "ParallelCollectionRDD[0] at parallelize at PythonRDD.scala:195"
      ]
     },
     "execution_count": 3,
     "metadata": {},
     "output_type": "execute_result"
    }
   ],
   "source": [
    "records"
   ]
  },
  {
   "cell_type": "code",
   "execution_count": 19,
   "metadata": {},
   "outputs": [
    {
     "data": {
      "text/plain": [
       "[1, 'Alice', 50]"
      ]
     },
     "execution_count": 19,
     "metadata": {},
     "output_type": "execute_result"
    }
   ],
   "source": [
    "records.first()"
   ]
  },
  {
   "cell_type": "code",
   "execution_count": 4,
   "metadata": {},
   "outputs": [],
   "source": [
    "records.count();"
   ]
  },
  {
   "cell_type": "code",
   "execution_count": 24,
   "metadata": {},
   "outputs": [
    {
     "data": {
      "text/plain": [
       "[1, 'Alice', 50]"
      ]
     },
     "execution_count": 24,
     "metadata": {},
     "output_type": "execute_result"
    }
   ],
   "source": [
    "records.first()"
   ]
  },
  {
   "cell_type": "code",
   "execution_count": 10,
   "metadata": {},
   "outputs": [],
   "source": [
    "records.count();"
   ]
  },
  {
   "cell_type": "code",
   "execution_count": 6,
   "metadata": {},
   "outputs": [
    {
     "data": {
      "text/plain": [
       "[[1, 'Alice', 50], [2, 'Bob', 80]]"
      ]
     },
     "execution_count": 6,
     "metadata": {},
     "output_type": "execute_result"
    }
   ],
   "source": [
    "records.collect()"
   ]
  },
  {
   "cell_type": "code",
   "execution_count": 7,
   "metadata": {},
   "outputs": [],
   "source": [
    "df = records.toDF() #it will default display top 20 rows"
   ]
  },
  {
   "cell_type": "code",
   "execution_count": 8,
   "metadata": {},
   "outputs": [
    {
     "name": "stdout",
     "output_type": "stream",
     "text": [
      "+---+-----+---+\n",
      "| _1|   _2| _3|\n",
      "+---+-----+---+\n",
      "|  1|Alice| 50|\n",
      "|  2|  Bob| 80|\n",
      "+---+-----+---+\n",
      "\n"
     ]
    }
   ],
   "source": [
    "df.show() "
   ]
  },
  {
   "cell_type": "code",
   "execution_count": 9,
   "metadata": {},
   "outputs": [
    {
     "data": {
      "text/plain": [
       "DataFrame[_1: bigint, _2: string, _3: bigint]"
      ]
     },
     "execution_count": 9,
     "metadata": {},
     "output_type": "execute_result"
    }
   ],
   "source": [
    "df"
   ]
  },
  {
   "cell_type": "code",
   "execution_count": 16,
   "metadata": {},
   "outputs": [],
   "source": [
    "data = sc.parallelize([Row(\n",
    "                          id=1,\n",
    "                          name=\"Alice\",\n",
    "                          score=50\n",
    "                          ),\n",
    "                       Row(\n",
    "                          id=2,\n",
    "                          name=\"Bob\",\n",
    "                          score=80\n",
    "                          ),\n",
    "                       Row(\n",
    "                          id=3,\n",
    "                          name=\"Charlie\",\n",
    "                          score=75\n",
    "                       )])"
   ]
  },
  {
   "cell_type": "code",
   "execution_count": 17,
   "metadata": {},
   "outputs": [
    {
     "data": {
      "text/plain": [
       "ParallelCollectionRDD[14] at parallelize at PythonRDD.scala:195"
      ]
     },
     "execution_count": 17,
     "metadata": {},
     "output_type": "execute_result"
    }
   ],
   "source": [
    "data"
   ]
  },
  {
   "cell_type": "code",
   "execution_count": 19,
   "metadata": {},
   "outputs": [],
   "source": [
    "dfColName = data.toDF()"
   ]
  },
  {
   "cell_type": "code",
   "execution_count": 20,
   "metadata": {},
   "outputs": [
    {
     "data": {
      "text/plain": [
       "DataFrame[id: bigint, name: string, score: bigint]"
      ]
     },
     "execution_count": 20,
     "metadata": {},
     "output_type": "execute_result"
    }
   ],
   "source": [
    "dfColName"
   ]
  },
  {
   "cell_type": "code",
   "execution_count": 21,
   "metadata": {},
   "outputs": [
    {
     "name": "stdout",
     "output_type": "stream",
     "text": [
      "+---+-------+-----+\n",
      "| id|   name|score|\n",
      "+---+-------+-----+\n",
      "|  1|  Alice|   50|\n",
      "|  2|    Bob|   80|\n",
      "|  3|Charlie|   75|\n",
      "+---+-------+-----+\n",
      "\n"
     ]
    }
   ],
   "source": [
    "dfColName.show()"
   ]
  },
  {
   "cell_type": "code",
   "execution_count": 22,
   "metadata": {},
   "outputs": [
    {
     "data": {
      "text/plain": [
       "[Row(id=1, name='Alice', score=50),\n",
       " Row(id=2, name='Bob', score=80),\n",
       " Row(id=3, name='Charlie', score=75)]"
      ]
     },
     "execution_count": 22,
     "metadata": {},
     "output_type": "execute_result"
    }
   ],
   "source": [
    "dfColName.take(3)"
   ]
  },
  {
   "cell_type": "code",
   "execution_count": 23,
   "metadata": {},
   "outputs": [
    {
     "data": {
      "text/plain": [
       "[Row(id=1, name='Alice', score=50),\n",
       " Row(id=2, name='Bob', score=80),\n",
       " Row(id=3, name='Charlie', score=75)]"
      ]
     },
     "execution_count": 23,
     "metadata": {},
     "output_type": "execute_result"
    }
   ],
   "source": [
    "dfColName.collect()"
   ]
  },
  {
   "cell_type": "code",
   "execution_count": 24,
   "metadata": {},
   "outputs": [
    {
     "data": {
      "text/plain": [
       "3"
      ]
     },
     "execution_count": 24,
     "metadata": {},
     "output_type": "execute_result"
    }
   ],
   "source": [
    "dfColName.count()"
   ]
  },
  {
   "cell_type": "code",
   "execution_count": 25,
   "metadata": {},
   "outputs": [],
   "source": [
    "complex_data = sc.parallelize([Row(id = 1,name=\"Kesav\",col_float=10.98),Row(id = 2,name=\"Durga\",col_float=11.98)])"
   ]
  },
  {
   "cell_type": "code",
   "execution_count": 26,
   "metadata": {},
   "outputs": [],
   "source": [
    "complex_data_df = complex_data.toDF()"
   ]
  },
  {
   "cell_type": "code",
   "execution_count": 27,
   "metadata": {},
   "outputs": [
    {
     "name": "stdout",
     "output_type": "stream",
     "text": [
      "+---------+---+-----+\n",
      "|col_float| id| name|\n",
      "+---------+---+-----+\n",
      "|    10.98|  1|Kesav|\n",
      "|    11.98|  2|Durga|\n",
      "+---------+---+-----+\n",
      "\n"
     ]
    }
   ],
   "source": [
    "complex_data_df.show()"
   ]
  },
  {
   "cell_type": "code",
   "execution_count": 28,
   "metadata": {},
   "outputs": [],
   "source": [
    "com_data1 = sc.parallelize([Row(col_int =1,\n",
    "                               col_float=23.67,\n",
    "                               col_list=[1,34,2,4],\n",
    "                               col_string=\"DS\"\n",
    "                               )])"
   ]
  },
  {
   "cell_type": "code",
   "execution_count": 29,
   "metadata": {},
   "outputs": [],
   "source": [
    "com_data1_df=com_data1.toDF()"
   ]
  },
  {
   "cell_type": "code",
   "execution_count": 31,
   "metadata": {},
   "outputs": [
    {
     "name": "stdout",
     "output_type": "stream",
     "text": [
      "+---------+-------+-------------+----------+\n",
      "|col_float|col_int|     col_list|col_string|\n",
      "+---------+-------+-------------+----------+\n",
      "|    23.67|      1|[1, 34, 2, 4]|        DS|\n",
      "+---------+-------+-------------+----------+\n",
      "\n"
     ]
    }
   ],
   "source": [
    "com_data1_df.show()"
   ]
  },
  {
   "cell_type": "code",
   "execution_count": 37,
   "metadata": {},
   "outputs": [],
   "source": [
    "com_data2 = sc.parallelize([Row(col_int=1,\n",
    "                              col_float=12.9,\n",
    "                              col_list=[1,2,3,4],\n",
    "                              col_row= Row(a=1,b=\"DS\",c=[1,2,3])\n",
    "                               )])"
   ]
  },
  {
   "cell_type": "code",
   "execution_count": 38,
   "metadata": {},
   "outputs": [],
   "source": [
    "com_data2_df = com_data2.toDF()"
   ]
  },
  {
   "cell_type": "code",
   "execution_count": 39,
   "metadata": {},
   "outputs": [
    {
     "name": "stdout",
     "output_type": "stream",
     "text": [
      "+---------+-------+------------+------------------+\n",
      "|col_float|col_int|    col_list|           col_row|\n",
      "+---------+-------+------------+------------------+\n",
      "|     12.9|      1|[1, 2, 3, 4]|[1, DS, [1, 2, 3]]|\n",
      "+---------+-------+------------+------------------+\n",
      "\n"
     ]
    }
   ],
   "source": [
    "com_data2_df.show()"
   ]
  },
  {
   "cell_type": "code",
   "execution_count": 45,
   "metadata": {},
   "outputs": [],
   "source": [
    "com_data3 = sc.parallelize([Row(col_list=[1,2,3,4],\n",
    "                               col_row=Row(a=1,b=2, c=3),\n",
    "                               col_dict={\"DS\":4000000},\n",
    "                               col_datetime=datetime(2014,8,1,14,15)),\n",
    "                           Row(col_list=[5,6,7,8,9],\n",
    "                               col_row=Row(a=2,b=3,c=4),\n",
    "                               col_dict={\"DS\":900044},\n",
    "                               col_datetime=datetime(2014,8,1,14,15)\n",
    "                           ),\n",
    "                           Row(col_list=[2,4,5,66,66,3],\n",
    "                               col_row=Row(a=1,b=2, c=3),\n",
    "                               col_dict={\"kesav\":90},\n",
    "                               col_datetime=datetime(2014,8,1,14,15)\n",
    "                           )\n",
    "                           ])"
   ]
  },
  {
   "cell_type": "code",
   "execution_count": 46,
   "metadata": {},
   "outputs": [],
   "source": [
    "com_data3_df = com_data3.toDF()"
   ]
  },
  {
   "cell_type": "code",
   "execution_count": 47,
   "metadata": {},
   "outputs": [
    {
     "name": "stdout",
     "output_type": "stream",
     "text": [
      "+-------------------+---------------+--------------------+---------+\n",
      "|       col_datetime|       col_dict|            col_list|  col_row|\n",
      "+-------------------+---------------+--------------------+---------+\n",
      "|2014-08-01 14:15:00|[DS -> 4000000]|        [1, 2, 3, 4]|[1, 2, 3]|\n",
      "|2014-08-01 14:15:00| [DS -> 900044]|     [5, 6, 7, 8, 9]|[2, 3, 4]|\n",
      "|2014-08-01 14:15:00|  [kesav -> 90]|[2, 4, 5, 66, 66, 3]|[1, 2, 3]|\n",
      "+-------------------+---------------+--------------------+---------+\n",
      "\n"
     ]
    }
   ],
   "source": [
    "com_data3_df.show()"
   ]
  },
  {
   "cell_type": "code",
   "execution_count": 48,
   "metadata": {},
   "outputs": [
    {
     "data": {
      "text/plain": [
       "<pyspark.sql.context.SQLContext at 0x10f3e1710>"
      ]
     },
     "execution_count": 48,
     "metadata": {},
     "output_type": "execute_result"
    }
   ],
   "source": [
    "sqlContext = SQLContext(sc)\n",
    "sqlContext"
   ]
  },
  {
   "cell_type": "code",
   "execution_count": 49,
   "metadata": {},
   "outputs": [
    {
     "data": {
      "text/plain": [
       "DataFrame[id: bigint]"
      ]
     },
     "execution_count": 49,
     "metadata": {},
     "output_type": "execute_result"
    }
   ],
   "source": [
    "df2 = sqlContext.range(10)\n",
    "df2"
   ]
  },
  {
   "cell_type": "code",
   "execution_count": 50,
   "metadata": {},
   "outputs": [
    {
     "name": "stdout",
     "output_type": "stream",
     "text": [
      "+---+\n",
      "| id|\n",
      "+---+\n",
      "|  0|\n",
      "|  1|\n",
      "|  2|\n",
      "|  3|\n",
      "|  4|\n",
      "|  5|\n",
      "|  6|\n",
      "|  7|\n",
      "|  8|\n",
      "|  9|\n",
      "+---+\n",
      "\n"
     ]
    }
   ],
   "source": [
    "df2.show()"
   ]
  },
  {
   "cell_type": "code",
   "execution_count": 52,
   "metadata": {},
   "outputs": [],
   "source": [
    "rdd1 = sc.parallelize([[1,\"DS\",80],[2,\"Kesav\",100]])\n"
   ]
  },
  {
   "cell_type": "code",
   "execution_count": 54,
   "metadata": {},
   "outputs": [],
   "source": [
    "rdd1_df1 = sqlContext.createDataFrame(rdd1)"
   ]
  },
  {
   "cell_type": "code",
   "execution_count": 55,
   "metadata": {},
   "outputs": [
    {
     "name": "stdout",
     "output_type": "stream",
     "text": [
      "+---+-----+---+\n",
      "| _1|   _2| _3|\n",
      "+---+-----+---+\n",
      "|  1|   DS| 80|\n",
      "|  2|Kesav|100|\n",
      "+---+-----+---+\n",
      "\n"
     ]
    }
   ],
   "source": [
    "rdd1_df1.show()"
   ]
  },
  {
   "cell_type": "code",
   "execution_count": 59,
   "metadata": {},
   "outputs": [],
   "source": [
    "rdd1_df2 = sqlContext.createDataFrame(rdd1,['id','name',\"score\"])"
   ]
  },
  {
   "cell_type": "code",
   "execution_count": 60,
   "metadata": {},
   "outputs": [
    {
     "name": "stdout",
     "output_type": "stream",
     "text": [
      "+---+-----+-----+\n",
      "| id| name|score|\n",
      "+---+-----+-----+\n",
      "|  1|   DS|   80|\n",
      "|  2|Kesav|  100|\n",
      "+---+-----+-----+\n",
      "\n"
     ]
    }
   ],
   "source": [
    "rdd1_df2.show()"
   ]
  },
  {
   "cell_type": "code",
   "execution_count": 61,
   "metadata": {},
   "outputs": [],
   "source": [
    "rdd1_df3 = sqlContext.createDataFrame(com_data3)"
   ]
  },
  {
   "cell_type": "code",
   "execution_count": 62,
   "metadata": {},
   "outputs": [
    {
     "name": "stdout",
     "output_type": "stream",
     "text": [
      "+-------------------+---------------+--------------------+---------+\n",
      "|       col_datetime|       col_dict|            col_list|  col_row|\n",
      "+-------------------+---------------+--------------------+---------+\n",
      "|2014-08-01 14:15:00|[DS -> 4000000]|        [1, 2, 3, 4]|[1, 2, 3]|\n",
      "|2014-08-01 14:15:00| [DS -> 900044]|     [5, 6, 7, 8, 9]|[2, 3, 4]|\n",
      "|2014-08-01 14:15:00|  [kesav -> 90]|[2, 4, 5, 66, 66, 3]|[1, 2, 3]|\n",
      "+-------------------+---------------+--------------------+---------+\n",
      "\n"
     ]
    }
   ],
   "source": [
    "rdd1_df3.show()"
   ]
  },
  {
   "cell_type": "code",
   "execution_count": 63,
   "metadata": {},
   "outputs": [],
   "source": [
    "rdd2 = sc.parallelize([Row(2,\"DS\",95),\n",
    "                       Row(3,\"Kesav\",75),\n",
    "                       Row(4,\"Dude\",100)])"
   ]
  },
  {
   "cell_type": "code",
   "execution_count": 64,
   "metadata": {},
   "outputs": [],
   "source": [
    "rdd2_row = Row('id','name','score')"
   ]
  },
  {
   "cell_type": "code",
   "execution_count": 71,
   "metadata": {},
   "outputs": [],
   "source": [
    "students_rdd =rdd2.map(lambda r1 :rdd2_row(*r1))"
   ]
  },
  {
   "cell_type": "code",
   "execution_count": 72,
   "metadata": {},
   "outputs": [
    {
     "data": {
      "text/plain": [
       "PythonRDD[138] at RDD at PythonRDD.scala:53"
      ]
     },
     "execution_count": 72,
     "metadata": {},
     "output_type": "execute_result"
    }
   ],
   "source": [
    "students_rdd"
   ]
  },
  {
   "cell_type": "code",
   "execution_count": 73,
   "metadata": {},
   "outputs": [
    {
     "data": {
      "text/plain": [
       "[Row(id=2, name='DS', score=95),\n",
       " Row(id=3, name='Kesav', score=75),\n",
       " Row(id=4, name='Dude', score=100)]"
      ]
     },
     "execution_count": 73,
     "metadata": {},
     "output_type": "execute_result"
    }
   ],
   "source": [
    "students_rdd.collect()"
   ]
  },
  {
   "cell_type": "code",
   "execution_count": 74,
   "metadata": {},
   "outputs": [
    {
     "name": "stdout",
     "output_type": "stream",
     "text": [
      "+---+-----+-----+\n",
      "| id| name|score|\n",
      "+---+-----+-----+\n",
      "|  2|   DS|   95|\n",
      "|  3|Kesav|   75|\n",
      "|  4| Dude|  100|\n",
      "+---+-----+-----+\n",
      "\n"
     ]
    }
   ],
   "source": [
    "students_rdd.toDF().show()"
   ]
  },
  {
   "cell_type": "code",
   "execution_count": 75,
   "metadata": {},
   "outputs": [],
   "source": [
    "df3 = sqlContext.createDataFrame(students_rdd)"
   ]
  },
  {
   "cell_type": "code",
   "execution_count": 76,
   "metadata": {},
   "outputs": [
    {
     "name": "stdout",
     "output_type": "stream",
     "text": [
      "+---+-----+-----+\n",
      "| id| name|score|\n",
      "+---+-----+-----+\n",
      "|  2|   DS|   95|\n",
      "|  3|Kesav|   75|\n",
      "|  4| Dude|  100|\n",
      "+---+-----+-----+\n",
      "\n"
     ]
    }
   ],
   "source": [
    "df3.show()"
   ]
  },
  {
   "cell_type": "code",
   "execution_count": 80,
   "metadata": {},
   "outputs": [],
   "source": [
    "com_data5 = sc.parallelize([Row(col_list=[1,2,3,4],\n",
    "                               col_row=Row(a=1,b=2, c=3),\n",
    "                               col_dict={\"DS\":4000000},\n",
    "                               col_string = \"Durga\",\n",
    "                               col_int = 10000,\n",
    "                               col_datetime=datetime(2014,8,1,14,15)),\n",
    "                           Row(col_list=[5,6,7,8,9],\n",
    "                               col_row=Row(a=2,b=3,c=4),\n",
    "                               col_dict={\"DS\":900044},\n",
    "                               col_strig = \"Kesav\",\n",
    "                               col_int = 15000,\n",
    "                               col_datetime=datetime(2014,8,1,14,15)\n",
    "                           ),\n",
    "                           Row(col_list=[2,4,5,66,66,3],\n",
    "                               col_row=Row(a=1,b=2, c=3),\n",
    "                               col_dict={\"kesav\":90},\n",
    "                               col_string = \"Dude\",\n",
    "                               col_int = 12000,\n",
    "                               col_datetime=datetime(2014,8,1,14,15)\n",
    "                           )\n",
    "                           ])"
   ]
  },
  {
   "cell_type": "code",
   "execution_count": 81,
   "metadata": {},
   "outputs": [],
   "source": [
    "com_data5_df = com_data5.toDF()"
   ]
  },
  {
   "cell_type": "code",
   "execution_count": 82,
   "metadata": {},
   "outputs": [
    {
     "name": "stdout",
     "output_type": "stream",
     "text": [
      "+-------------------+---------------+-------+--------------------+---------+----------+\n",
      "|       col_datetime|       col_dict|col_int|            col_list|  col_row|col_string|\n",
      "+-------------------+---------------+-------+--------------------+---------+----------+\n",
      "|2014-08-01 14:15:00|[DS -> 4000000]|  10000|        [1, 2, 3, 4]|[1, 2, 3]|     Durga|\n",
      "|2014-08-01 14:15:00| [DS -> 900044]|  15000|     [5, 6, 7, 8, 9]|[2, 3, 4]|     Kesav|\n",
      "|2014-08-01 14:15:00|  [kesav -> 90]|  12000|[2, 4, 5, 66, 66, 3]|[1, 2, 3]|      Dude|\n",
      "+-------------------+---------------+-------+--------------------+---------+----------+\n",
      "\n"
     ]
    }
   ],
   "source": [
    "com_data5_df.show()"
   ]
  },
  {
   "cell_type": "code",
   "execution_count": 83,
   "metadata": {},
   "outputs": [
    {
     "data": {
      "text/plain": [
       "[Row(col_datetime=datetime.datetime(2014, 8, 1, 14, 15), col_dict={'DS': 4000000}, col_int=10000, col_list=[1, 2, 3, 4], col_row=Row(a=1, b=2, c=3), col_string='Durga'),\n",
       " Row(col_datetime=datetime.datetime(2014, 8, 1, 14, 15), col_dict={'DS': 900044}, col_int=15000, col_list=[5, 6, 7, 8, 9], col_row=Row(a=2, b=3, c=4), col_strig='Kesav'),\n",
       " Row(col_datetime=datetime.datetime(2014, 8, 1, 14, 15), col_dict={'kesav': 90}, col_int=12000, col_list=[2, 4, 5, 66, 66, 3], col_row=Row(a=1, b=2, c=3), col_string='Dude')]"
      ]
     },
     "execution_count": 83,
     "metadata": {},
     "output_type": "execute_result"
    }
   ],
   "source": [
    "com_data5.collect()"
   ]
  },
  {
   "cell_type": "code",
   "execution_count": 85,
   "metadata": {},
   "outputs": [
    {
     "data": {
      "text/plain": [
       "'Kesav'"
      ]
     },
     "execution_count": 85,
     "metadata": {},
     "output_type": "execute_result"
    }
   ],
   "source": [
    "com_data5.collect()[1][5]"
   ]
  },
  {
   "cell_type": "code",
   "execution_count": 86,
   "metadata": {},
   "outputs": [
    {
     "data": {
      "text/plain": [
       "12000"
      ]
     },
     "execution_count": 86,
     "metadata": {},
     "output_type": "execute_result"
    }
   ],
   "source": [
    "com_data5.collect()[2][2] # Access RDD element using multidimensional array"
   ]
  },
  {
   "cell_type": "code",
   "execution_count": 90,
   "metadata": {},
   "outputs": [
    {
     "data": {
      "text/plain": [
       "[(10000, [1, 2, 3, 4]),\n",
       " (15000, [5, 6, 7, 8, 9]),\n",
       " (12000, [2, 4, 5, 66, 66, 3])]"
      ]
     },
     "execution_count": 90,
     "metadata": {},
     "output_type": "execute_result"
    }
   ],
   "source": [
    "com_data5_df.rdd.map(lambda x : (x.col_int,x.col_list)).collect() #Extract RDD from DataFrame"
   ]
  },
  {
   "cell_type": "code",
   "execution_count": 92,
   "metadata": {},
   "outputs": [
    {
     "data": {
      "text/plain": [
       "[('Hello Durga', [1, 2, 3, 4]),\n",
       " ('Hello Kesav', [5, 6, 7, 8, 9]),\n",
       " ('Hello Dude', [2, 4, 5, 66, 66, 3])]"
      ]
     },
     "execution_count": 92,
     "metadata": {},
     "output_type": "execute_result"
    }
   ],
   "source": [
    "com_data5_df.rdd.map(lambda x : (\"Hello \"+x.col_string,x.col_list)).collect() #Extract RDD from DataFrame"
   ]
  },
  {
   "cell_type": "code",
   "execution_count": 94,
   "metadata": {},
   "outputs": [
    {
     "name": "stdout",
     "output_type": "stream",
     "text": [
      "+----------+\n",
      "|col_string|\n",
      "+----------+\n",
      "|     Durga|\n",
      "|     Kesav|\n",
      "|      Dude|\n",
      "+----------+\n",
      "\n"
     ]
    }
   ],
   "source": [
    "com_data5_df.select('col_string').show() # Extract DataFrame from DataFrame"
   ]
  },
  {
   "cell_type": "code",
   "execution_count": 96,
   "metadata": {},
   "outputs": [
    {
     "name": "stdout",
     "output_type": "stream",
     "text": [
      "+-------------------+---------------+\n",
      "|       col_datetime|       col_dict|\n",
      "+-------------------+---------------+\n",
      "|2014-08-01 14:15:00|[DS -> 4000000]|\n",
      "|2014-08-01 14:15:00| [DS -> 900044]|\n",
      "|2014-08-01 14:15:00|  [kesav -> 90]|\n",
      "+-------------------+---------------+\n",
      "\n"
     ]
    }
   ],
   "source": [
    "com_data5_df.select('col_datetime','col_dict').show()"
   ]
  },
  {
   "cell_type": "code",
   "execution_count": 99,
   "metadata": {},
   "outputs": [
    {
     "name": "stdout",
     "output_type": "stream",
     "text": [
      "+----------+-------+---------+\n",
      "|col_string|col_int|as_concat|\n",
      "+----------+-------+---------+\n",
      "|     Durga|  10000|     null|\n",
      "|     Kesav|  15000|     null|\n",
      "|      Dude|  12000|     null|\n",
      "+----------+-------+---------+\n",
      "\n"
     ]
    }
   ],
   "source": [
    "com_data5_df.select('col_string','col_int').withColumn('as_concat',com_data5_df.col_string+com_data5_df.col_int).show()"
   ]
  },
  {
   "cell_type": "code",
   "execution_count": 100,
   "metadata": {},
   "outputs": [],
   "source": [
    "com_data5 = sc.parallelize([Row(col_list=[1,2,3,4],\n",
    "                               col_row=Row(a=1,b=2, c=3),\n",
    "                               col_dict={\"DS\":4000000},\n",
    "                               col_string = \"Durga\",\n",
    "                               col_int = 10000,\n",
    "                               col_float=15.0,\n",
    "                               col_datetime=datetime(2014,8,1,14,15)),\n",
    "                           Row(col_list=[5,6,7,8,9],\n",
    "                               col_row=Row(a=2,b=3,c=4),\n",
    "                               col_dict={\"DS\":900044},\n",
    "                               col_strig = \"Kesav\",\n",
    "                               col_int = 15000,\n",
    "                               col_float=20.0,\n",
    "                               col_datetime=datetime(2014,8,1,14,15)\n",
    "                           ),\n",
    "                           Row(col_list=[2,4,5,66,66,3],\n",
    "                               col_row=Row(a=1,b=2, c=3),\n",
    "                               col_dict={\"kesav\":90},\n",
    "                               col_string = \"Dude\",\n",
    "                               col_int = 12000,\n",
    "                               col_float=55.0,\n",
    "                               col_datetime=datetime(2014,8,1,14,15)\n",
    "                           )\n",
    "                           ])"
   ]
  },
  {
   "cell_type": "code",
   "execution_count": 101,
   "metadata": {},
   "outputs": [
    {
     "data": {
      "text/plain": [
       "[Row(col_datetime=datetime.datetime(2014, 8, 1, 14, 15), col_dict={'DS': 4000000}, col_float=15.0, col_int=10000, col_list=[1, 2, 3, 4], col_row=Row(a=1, b=2, c=3), col_string='Durga'),\n",
       " Row(col_datetime=datetime.datetime(2014, 8, 1, 14, 15), col_dict={'DS': 900044}, col_float=20.0, col_int=15000, col_list=[5, 6, 7, 8, 9], col_row=Row(a=2, b=3, c=4), col_strig='Kesav'),\n",
       " Row(col_datetime=datetime.datetime(2014, 8, 1, 14, 15), col_dict={'kesav': 90}, col_float=55.0, col_int=12000, col_list=[2, 4, 5, 66, 66, 3], col_row=Row(a=1, b=2, c=3), col_string='Dude')]"
      ]
     },
     "execution_count": 101,
     "metadata": {},
     "output_type": "execute_result"
    }
   ],
   "source": [
    "com_data5.collect()"
   ]
  },
  {
   "cell_type": "code",
   "execution_count": 104,
   "metadata": {},
   "outputs": [],
   "source": [
    "com_data5_df = sqlContext.createDataFrame(com_data5)"
   ]
  },
  {
   "cell_type": "code",
   "execution_count": 105,
   "metadata": {},
   "outputs": [
    {
     "name": "stdout",
     "output_type": "stream",
     "text": [
      "+-------------------+---------------+---------+-------+--------------------+---------+----------+\n",
      "|       col_datetime|       col_dict|col_float|col_int|            col_list|  col_row|col_string|\n",
      "+-------------------+---------------+---------+-------+--------------------+---------+----------+\n",
      "|2014-08-01 14:15:00|[DS -> 4000000]|     15.0|  10000|        [1, 2, 3, 4]|[1, 2, 3]|     Durga|\n",
      "|2014-08-01 14:15:00| [DS -> 900044]|     20.0|  15000|     [5, 6, 7, 8, 9]|[2, 3, 4]|     Kesav|\n",
      "|2014-08-01 14:15:00|  [kesav -> 90]|     55.0|  12000|[2, 4, 5, 66, 66, 3]|[1, 2, 3]|      Dude|\n",
      "+-------------------+---------------+---------+-------+--------------------+---------+----------+\n",
      "\n"
     ]
    }
   ],
   "source": [
    "com_data5_df.show()"
   ]
  },
  {
   "cell_type": "code",
   "execution_count": 108,
   "metadata": {},
   "outputs": [
    {
     "name": "stdout",
     "output_type": "stream",
     "text": [
      "+---------+-------+-------+\n",
      "|col_float|col_int|col_sum|\n",
      "+---------+-------+-------+\n",
      "|     15.0|  10000|10015.0|\n",
      "|     20.0|  15000|15020.0|\n",
      "|     55.0|  12000|12055.0|\n",
      "+---------+-------+-------+\n",
      "\n"
     ]
    }
   ],
   "source": [
    "com_data5_df.select('col_float','col_int')\\\n",
    "            .withColumn('col_sum',com_data5_df.col_float+com_data5_df.col_int)\\\n",
    "            .show()"
   ]
  },
  {
   "cell_type": "code",
   "execution_count": 110,
   "metadata": {},
   "outputs": [
    {
     "name": "stdout",
     "output_type": "stream",
     "text": [
      "+-------------------+---------------+---------+-------+--------------------+---------+----------+\n",
      "|       col_datetime|            map|col_float|col_int|            col_list|  col_row|col_string|\n",
      "+-------------------+---------------+---------+-------+--------------------+---------+----------+\n",
      "|2014-08-01 14:15:00|[DS -> 4000000]|     15.0|  10000|        [1, 2, 3, 4]|[1, 2, 3]|     Durga|\n",
      "|2014-08-01 14:15:00| [DS -> 900044]|     20.0|  15000|     [5, 6, 7, 8, 9]|[2, 3, 4]|     Kesav|\n",
      "|2014-08-01 14:15:00|  [kesav -> 90]|     55.0|  12000|[2, 4, 5, 66, 66, 3]|[1, 2, 3]|      Dude|\n",
      "+-------------------+---------------+---------+-------+--------------------+---------+----------+\n",
      "\n"
     ]
    }
   ],
   "source": [
    "com_data5_df.withColumnRenamed('col_dict','map').show()"
   ]
  },
  {
   "cell_type": "code",
   "execution_count": 111,
   "metadata": {},
   "outputs": [
    {
     "name": "stdout",
     "output_type": "stream",
     "text": [
      "+-------------------+---------------+-----+-------+--------------------+---------+----------+\n",
      "|       col_datetime|            map|float|col_int|            col_list|  col_row|col_string|\n",
      "+-------------------+---------------+-----+-------+--------------------+---------+----------+\n",
      "|2014-08-01 14:15:00|[DS -> 4000000]| 15.0|  10000|        [1, 2, 3, 4]|[1, 2, 3]|     Durga|\n",
      "|2014-08-01 14:15:00| [DS -> 900044]| 20.0|  15000|     [5, 6, 7, 8, 9]|[2, 3, 4]|     Kesav|\n",
      "|2014-08-01 14:15:00|  [kesav -> 90]| 55.0|  12000|[2, 4, 5, 66, 66, 3]|[1, 2, 3]|      Dude|\n",
      "+-------------------+---------------+-----+-------+--------------------+---------+----------+\n",
      "\n"
     ]
    }
   ],
   "source": [
    "com_data5_df.withColumnRenamed('col_dict','map').withColumnRenamed('col_float','float').show() #Rename column name"
   ]
  },
  {
   "cell_type": "code",
   "execution_count": 112,
   "metadata": {},
   "outputs": [
    {
     "name": "stdout",
     "output_type": "stream",
     "text": [
      "+-----+\n",
      "| Name|\n",
      "+-----+\n",
      "|Durga|\n",
      "|Kesav|\n",
      "| Dude|\n",
      "+-----+\n",
      "\n"
     ]
    }
   ],
   "source": [
    "com_data5_df.select(com_data5_df.col_string.alias('Name')).show() # Give own alias"
   ]
  },
  {
   "cell_type": "code",
   "execution_count": 115,
   "metadata": {},
   "outputs": [],
   "source": [
    "# We can also create Pandas DataFrames using Spark Dataframe using command df_pandas = spark_DF.toPandas()\n",
    "# We can also create Spark  DataFrames using Pandas DataFrame using command df_spark = sqlContext.createDataFrame(df_pandas)\n",
    "# But spark data frame are build on top of RDD and will be distributed among multiple node on the cluster whereas\n",
    "# Pandas Dataframes will be in memory on a single machine."
   ]
  },
  {
   "cell_type": "code",
   "execution_count": null,
   "metadata": {},
   "outputs": [],
   "source": [
    "impo"
   ]
  }
 ],
 "metadata": {
  "kernelspec": {
   "display_name": "Python 3",
   "language": "python",
   "name": "python3"
  },
  "language_info": {
   "codemirror_mode": {
    "name": "ipython",
    "version": 3
   },
   "file_extension": ".py",
   "mimetype": "text/x-python",
   "name": "python",
   "nbconvert_exporter": "python",
   "pygments_lexer": "ipython3",
   "version": "3.7.6"
  }
 },
 "nbformat": 4,
 "nbformat_minor": 4
}
